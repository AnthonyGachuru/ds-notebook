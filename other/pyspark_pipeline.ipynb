{
 "cells": [
  {
   "cell_type": "markdown",
   "metadata": {},
   "source": [
    "# Spark Pipeline"
   ]
  },
  {
   "cell_type": "markdown",
   "metadata": {},
   "source": [
    "## Setup"
   ]
  },
  {
   "cell_type": "code",
   "execution_count": 2,
   "metadata": {
    "collapsed": false
   },
   "outputs": [],
   "source": [
    "import findspark\n",
    "findspark.init()\n",
    "\n",
    "import pyspark\n",
    "from pyspark.sql import SparkSession\n",
    "\n",
    "sc = pyspark.SparkContext()\n",
    "spark = SparkSession.builder.appName('example').getOrCreate()"
   ]
  },
  {
   "cell_type": "markdown",
   "metadata": {},
   "source": [
    "## Libraries"
   ]
  },
  {
   "cell_type": "code",
   "execution_count": null,
   "metadata": {
    "collapsed": true
   },
   "outputs": [],
   "source": [
    "from pyspark.ml.feature import StringIndexer, OneHotEncoder, VectorAssembler\n",
    "from pyspark.ml import Pipeline\n",
    "from pyspark.ml.classification import LogisticRegression\n",
    "import pyspark.ml.evaluation as evals\n",
    "import pyspark.ml.tuning as tune\n",
    "import numpy as np"
   ]
  },
  {
   "cell_type": "markdown",
   "metadata": {},
   "source": [
    "## Imports"
   ]
  },
  {
   "cell_type": "code",
   "execution_count": 2,
   "metadata": {
    "collapsed": false
   },
   "outputs": [],
   "source": [
    "df = spark.read.csv('data.csv', header = True)\n",
    "df.show(5)\n",
    "df.columns"
   ]
  },
  {
   "cell_type": "markdown",
   "metadata": {},
   "source": [
    "## Pre-processing\n",
    "\n",
    "Spark needs the target column to be called label."
   ]
  },
  {
   "cell_type": "code",
   "execution_count": 43,
   "metadata": {
    "collapsed": false,
    "scrolled": true
   },
   "outputs": [],
   "source": [
    "df = df.withColumn(\"label\", df[\"target\"].cast('integer'))"
   ]
  },
  {
   "cell_type": "code",
   "execution_count": 44,
   "metadata": {
    "collapsed": false
   },
   "outputs": [],
   "source": [
    "scf_indexer = StringIndexer(inputCol = \"some_cat_feature\", outputCol = \"some_cat_feature_index\")\n",
    "scf_encoder = OneHotEncoder(inputCol = \"some_cat_feature_index\", outputCol = \"some_cat_feature_fact\")\n",
    "\n",
    "feature_cols = [\"some list of column names\"]\n",
    "\n",
    "vec_assembler = VectorAssembler(inputCols = feature_cols, \n",
    "                                outputCol = \"features\")\n",
    "\n",
    "pipe = Pipeline(stages = [scf_indexer, scf_encoder, vec_assembler])"
   ]
  },
  {
   "cell_type": "code",
   "execution_count": 50,
   "metadata": {
    "collapsed": false
   },
   "outputs": [],
   "source": [
    "piped_data = pipe.fit(df).transform(df)\n",
    "training, test = piped_data.randomSplit([.8, .2])"
   ]
  },
  {
   "cell_type": "markdown",
   "metadata": {},
   "source": [
    "## Modeling"
   ]
  },
  {
   "cell_type": "code",
   "execution_count": 1,
   "metadata": {
    "collapsed": false
   },
   "outputs": [],
   "source": [
    "%%time\n",
    "\n",
    "clf_lr = LogisticRegression()\n",
    "evaluator = evals.BinaryClassificationEvaluator(metricName = \"areaUnderROC\")\n",
    "\n",
    "grid = tune.ParamGridBuilder()\n",
    "grid = grid.addGrid(clf_lr.regParam, np.arange(0, .1, .01))\n",
    "grid = grid.addGrid(clf_lr.elasticNetParam, [0, 1])\n",
    "grid = grid.build()\n",
    "\n",
    "clf_lr_cv = tune.CrossValidator(\n",
    "    estimator = clf_lr,\n",
    "    estimatorParamMaps = grid,\n",
    "    evaluator = evaluator,\n",
    "    numFolds = 5\n",
    "               )\n",
    "\n",
    "best_clf_lr = clf_lr_cv.fit(training).bestModel\n",
    "results = best_clf_lr.transform(training)\n",
    "print(evaluator.evaluate(results))"
   ]
  },
  {
   "cell_type": "markdown",
   "metadata": {},
   "source": [
    "## Stop"
   ]
  },
  {
   "cell_type": "code",
   "execution_count": 5,
   "metadata": {
    "collapsed": true
   },
   "outputs": [],
   "source": [
    "sc.stop()"
   ]
  }
 ],
 "metadata": {
  "anaconda-cloud": {},
  "kernelspec": {
   "display_name": "Python [default]",
   "language": "python",
   "name": "python3"
  },
  "language_info": {
   "codemirror_mode": {
    "name": "ipython",
    "version": 3
   },
   "file_extension": ".py",
   "mimetype": "text/x-python",
   "name": "python",
   "nbconvert_exporter": "python",
   "pygments_lexer": "ipython3",
   "version": "3.5.2"
  }
 },
 "nbformat": 4,
 "nbformat_minor": 2
}
